{
 "cells": [
  {
   "cell_type": "markdown",
   "metadata": {},
   "source": [
    "# Movie Recomendation  System Using Singular Value System "
   ]
  },
  {
   "cell_type": "markdown",
   "metadata": {},
   "source": [
    "* imorting Libraries"
   ]
  },
  {
   "cell_type": "code",
   "execution_count": 1,
   "metadata": {},
   "outputs": [],
   "source": [
    "import numpy as np\n",
    "import pandas as pd\n",
    "import matplotlib.pyplot as plt"
   ]
  },
  {
   "cell_type": "markdown",
   "metadata": {},
   "source": [
    "* load Dataset"
   ]
  },
  {
   "cell_type": "code",
   "execution_count": 8,
   "metadata": {},
   "outputs": [],
   "source": [
    "ratingdata=pd.io.parsers.read_csv(r'C:\\Users\\Lenovo\\Desktop\\Data Science\\Machine Learning\\22_MovieRecommendationSystemUsingSVD\\ratings.dat',names=['user_id','movie_id','rating','time'],\n",
    "                             engine='python',delimiter='::')\n",
    "moviedata=pd.io.parsers.read_csv(r'C:\\Users\\Lenovo\\Desktop\\Data Science\\Machine Learning\\22_MovieRecommendationSystemUsingSVD\\movies.dat',names=['movie_id','title','genre'],\n",
    "                            engine='python',delimiter='::')\n",
    "\n"
   ]
  },
  {
   "cell_type": "code",
   "execution_count": 9,
   "metadata": {},
   "outputs": [
    {
     "name": "stdout",
     "output_type": "stream",
     "text": [
      "         user_id  movie_id  rating       time\n",
      "0              1      1193       5  978300760\n",
      "1              1       661       3  978302109\n",
      "2              1       914       3  978301968\n",
      "3              1      3408       4  978300275\n",
      "4              1      2355       5  978824291\n",
      "...          ...       ...     ...        ...\n",
      "1000204     6040      1091       1  956716541\n",
      "1000205     6040      1094       5  956704887\n",
      "1000206     6040       562       5  956704746\n",
      "1000207     6040      1096       4  956715648\n",
      "1000208     6040      1097       4  956715569\n",
      "\n",
      "[1000209 rows x 4 columns]\n"
     ]
    }
   ],
   "source": [
    "print(ratingdata)"
   ]
  },
  {
   "cell_type": "code",
   "execution_count": 10,
   "metadata": {},
   "outputs": [
    {
     "name": "stdout",
     "output_type": "stream",
     "text": [
      "      movie_id                               title  \\\n",
      "0            1                    Toy Story (1995)   \n",
      "1            2                      Jumanji (1995)   \n",
      "2            3             Grumpier Old Men (1995)   \n",
      "3            4            Waiting to Exhale (1995)   \n",
      "4            5  Father of the Bride Part II (1995)   \n",
      "...        ...                                 ...   \n",
      "3878      3948             Meet the Parents (2000)   \n",
      "3879      3949          Requiem for a Dream (2000)   \n",
      "3880      3950                    Tigerland (2000)   \n",
      "3881      3951             Two Family House (2000)   \n",
      "3882      3952               Contender, The (2000)   \n",
      "\n",
      "                             genre  \n",
      "0      Animation|Children's|Comedy  \n",
      "1     Adventure|Children's|Fantasy  \n",
      "2                   Comedy|Romance  \n",
      "3                     Comedy|Drama  \n",
      "4                           Comedy  \n",
      "...                            ...  \n",
      "3878                        Comedy  \n",
      "3879                         Drama  \n",
      "3880                         Drama  \n",
      "3881                         Drama  \n",
      "3882                Drama|Thriller  \n",
      "\n",
      "[3883 rows x 3 columns]\n"
     ]
    }
   ],
   "source": [
    "print(moviedata)"
   ]
  },
  {
   "cell_type": "markdown",
   "metadata": {},
   "source": [
    "* Creating  the rating Matrix"
   ]
  },
  {
   "cell_type": "code",
   "execution_count": 12,
   "metadata": {},
   "outputs": [
    {
     "name": "stdout",
     "output_type": "stream",
     "text": [
      "[[5 0 0 ... 0 0 3]\n",
      " [0 0 0 ... 0 0 0]\n",
      " [0 0 0 ... 0 0 0]\n",
      " ...\n",
      " [0 0 0 ... 0 0 0]\n",
      " [0 0 0 ... 0 0 0]\n",
      " [0 0 0 ... 0 0 0]]\n"
     ]
    }
   ],
   "source": [
    "ratingMatrix=np.ndarray(shape=(np.max(rating.movie_id.values),np.max(rating.user_id.values)),\n",
    "                     dtype=np.uint8)\n",
    "ratingMatrix[rating.movie_id.values-1,rating.user_id.values-1]=ratingdata.rating.values\n",
    "print(ratingMatrix)"
   ]
  },
  {
   "cell_type": "markdown",
   "metadata": {},
   "source": [
    "* Subtract Mean off - Normalization"
   ]
  },
  {
   "cell_type": "code",
   "execution_count": 13,
   "metadata": {},
   "outputs": [
    {
     "name": "stdout",
     "output_type": "stream",
     "text": [
      "[[ 3.57400662 -1.42599338 -1.42599338 ... -1.42599338 -1.42599338\n",
      "   1.57400662]\n",
      " [-0.37152318 -0.37152318 -0.37152318 ... -0.37152318 -0.37152318\n",
      "  -0.37152318]\n",
      " [-0.23874172 -0.23874172 -0.23874172 ... -0.23874172 -0.23874172\n",
      "  -0.23874172]\n",
      " ...\n",
      " [-0.03278146 -0.03278146 -0.03278146 ... -0.03278146 -0.03278146\n",
      "  -0.03278146]\n",
      " [-0.02582781 -0.02582781 -0.02582781 ... -0.02582781 -0.02582781\n",
      "  -0.02582781]\n",
      " [-0.24288079 -0.24288079 -0.24288079 ... -0.24288079 -0.24288079\n",
      "  -0.24288079]]\n"
     ]
    }
   ],
   "source": [
    "normalizedMatrix=ratingMatrix-np.asarray([(np.mean(ratingMatrix,1))]).T\n",
    "print(normalizedMatrix)"
   ]
  },
  {
   "cell_type": "markdown",
   "metadata": {},
   "source": [
    "* Compute SVD"
   ]
  },
  {
   "cell_type": "code",
   "execution_count": 14,
   "metadata": {},
   "outputs": [],
   "source": [
    "A=normalizedMatrix.T/np.sqrt(ratingMatrix.shape[0]-1)\n",
    "U,S,V=np.linalg.svd(A)"
   ]
  },
  {
   "cell_type": "markdown",
   "metadata": {},
   "source": [
    "* Calculate cosine similarity , sort by most similar and return the top N"
   ]
  },
  {
   "cell_type": "code",
   "execution_count": 15,
   "metadata": {},
   "outputs": [],
   "source": [
    "def similar(ratingdata,moviedata,top_n=10):\n",
    "    index=movie_id-1     # mivie id start from 1\n",
    "    \n",
    "    movie_row=ratingdata[index,:]\n",
    "    magnitude=np.sqrt(np.einsum('ij,ij->i',ratingdata,ratingdata))\n",
    "    \n",
    "    similarity = np.dot(movie_row,ratingdata.T)/(magnitude[index]*magnitude)\n",
    "    sort_indexes=np.argsort(-similarity)\n",
    "    return sort_indexes[:top_n]"
   ]
  },
  {
   "cell_type": "markdown",
   "metadata": {},
   "source": [
    "* Select k principle component to represent the movies , a movie_id to find  recommendations and print the top_n result"
   ]
  },
  {
   "cell_type": "code",
   "execution_count": 21,
   "metadata": {},
   "outputs": [
    {
     "name": "stdout",
     "output_type": "stream",
     "text": [
      "Recommendation for movie Money Train (1995):\n",
      "\n",
      "Money Train (1995)\n",
      "Substitute, The (1996)\n",
      "Sudden Death (1995)\n",
      "Drop Zone (1994)\n",
      "Metro (1997)\n",
      "Specialist, The (1994)\n",
      "Fled (1996)\n"
     ]
    },
    {
     "name": "stderr",
     "output_type": "stream",
     "text": [
      "C:\\Users\\Lenovo\\Anaconda3\\lib\\site-packages\\ipykernel_launcher.py:7: RuntimeWarning: invalid value encountered in true_divide\n",
      "  import sys\n"
     ]
    }
   ],
   "source": [
    "k=60\n",
    "movie_id=20\n",
    "top_in=7\n",
    "sliced=V.T[:,:k]\n",
    "indexes=similar(sliced,movie_id,top_in)\n",
    "\n",
    "print('Recommendation for movie {0}:\\n'.format(moviedata[moviedata.movie_id==movie_id].title.values[0]))\n",
    "for id in indexes +1:\n",
    "    print(moviedata[moviedata.movie_id==id].title.values[0])\n",
    "    \n",
    "    "
   ]
  },
  {
   "cell_type": "code",
   "execution_count": null,
   "metadata": {},
   "outputs": [],
   "source": []
  }
 ],
 "metadata": {
  "kernelspec": {
   "display_name": "Python 3",
   "language": "python",
   "name": "python3"
  },
  "language_info": {
   "codemirror_mode": {
    "name": "ipython",
    "version": 3
   },
   "file_extension": ".py",
   "mimetype": "text/x-python",
   "name": "python",
   "nbconvert_exporter": "python",
   "pygments_lexer": "ipython3",
   "version": "3.7.4"
  }
 },
 "nbformat": 4,
 "nbformat_minor": 2
}
