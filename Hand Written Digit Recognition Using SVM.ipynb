{
 "cells": [
  {
   "cell_type": "markdown",
   "metadata": {},
   "source": [
    "# Hand Written Digit Recognition"
   ]
  },
  {
   "cell_type": "markdown",
   "metadata": {},
   "source": [
    "* Import Libraries"
   ]
  },
  {
   "cell_type": "code",
   "execution_count": 2,
   "metadata": {},
   "outputs": [
    {
     "name": "stderr",
     "output_type": "stream",
     "text": [
      "C:\\Users\\Lenovo\\Anaconda3\\lib\\importlib\\_bootstrap.py:219: RuntimeWarning: numpy.ufunc size changed, may indicate binary incompatibility. Expected 192 from C header, got 216 from PyObject\n",
      "  return f(*args, **kwds)\n",
      "C:\\Users\\Lenovo\\Anaconda3\\lib\\importlib\\_bootstrap.py:219: RuntimeWarning: numpy.ufunc size changed, may indicate binary incompatibility. Expected 192 from C header, got 216 from PyObject\n",
      "  return f(*args, **kwds)\n"
     ]
    }
   ],
   "source": [
    "import numpy as np\n",
    "import pandas as pd\n",
    "from sklearn.datasets import load_digits"
   ]
  },
  {
   "cell_type": "markdown",
   "metadata": {},
   "source": [
    "* Load Dataset"
   ]
  },
  {
   "cell_type": "code",
   "execution_count": 3,
   "metadata": {},
   "outputs": [],
   "source": [
    "df=load_digits()"
   ]
  },
  {
   "cell_type": "markdown",
   "metadata": {},
   "source": [
    "* Summarize Dataset"
   ]
  },
  {
   "cell_type": "code",
   "execution_count": 5,
   "metadata": {},
   "outputs": [
    {
     "name": "stdout",
     "output_type": "stream",
     "text": [
      "[[ 0.  0.  5. ...  0.  0.  0.]\n",
      " [ 0.  0.  0. ... 10.  0.  0.]\n",
      " [ 0.  0.  0. ... 16.  9.  0.]\n",
      " ...\n",
      " [ 0.  0.  1. ...  6.  0.  0.]\n",
      " [ 0.  0.  2. ... 12.  0.  0.]\n",
      " [ 0.  0. 10. ... 12.  1.  0.]]\n",
      "[0 1 2 ... 8 9 8]\n",
      "(1797, 64)\n",
      "(1797, 8, 8)\n",
      "1797\n"
     ]
    }
   ],
   "source": [
    "print(df.data)\n",
    "print(df.target)\n",
    "print(df.data.shape)\n",
    "print(df.images.shape)\n",
    "dataimageLength=len(df.images)\n",
    "print(dataimageLength)"
   ]
  },
  {
   "cell_type": "markdown",
   "metadata": {},
   "source": [
    "* Visualize data"
   ]
  },
  {
   "cell_type": "code",
   "execution_count": 7,
   "metadata": {},
   "outputs": [
    {
     "data": {
      "text/plain": [
       "<Figure size 432x288 with 0 Axes>"
      ]
     },
     "metadata": {},
     "output_type": "display_data"
    },
    {
     "data": {
      "image/png": "[encoded data removed]",
      "text/plain": [
       "<Figure size 288x288 with 1 Axes>"
      ]
     },
     "metadata": {
      "needs_background": "light"
     },
     "output_type": "display_data"
    },
    {
     "data": {
      "text/plain": [
       "array([[ 0.,  0.,  1.,  9., 15., 11.,  0.,  0.],\n",
       "       [ 0.,  0., 11., 16.,  8., 14.,  6.,  0.],\n",
       "       [ 0.,  2., 16., 10.,  0.,  9.,  9.,  0.],\n",
       "       [ 0.,  1., 16.,  4.,  0.,  8.,  8.,  0.],\n",
       "       [ 0.,  4., 16.,  4.,  0.,  8.,  8.,  0.],\n",
       "       [ 0.,  1., 16.,  5.,  1., 11.,  3.,  0.],\n",
       "       [ 0.,  0., 12., 12., 10., 10.,  0.,  0.],\n",
       "       [ 0.,  0.,  1., 10., 13.,  3.,  0.,  0.]])"
      ]
     },
     "execution_count": 7,
     "metadata": {},
     "output_type": "execute_result"
    }
   ],
   "source": [
    "n=10\n",
    "\n",
    "import matplotlib.pyplot as plt\n",
    "plt.gray()\n",
    "\n",
    "plt.matshow(df.images[n])\n",
    "plt.show()\n",
    "df.images[n]"
   ]
  },
  {
   "cell_type": "code",
   "execution_count": 14,
   "metadata": {},
   "outputs": [
    {
     "name": "stdout",
     "output_type": "stream",
     "text": [
      "Enter number  4\n"
     ]
    },
    {
     "data": {
      "text/plain": [
       "<Figure size 432x288 with 0 Axes>"
      ]
     },
     "metadata": {},
     "output_type": "display_data"
    },
    {
     "data": {
      "image/png": "[encoded data removed]",
      "text/plain": [
       "<Figure size 288x288 with 1 Axes>"
      ]
     },
     "metadata": {
      "needs_background": "light"
     },
     "output_type": "display_data"
    },
    {
     "data": {
      "text/plain": [
       "array([[ 0.,  0.,  0.,  1., 11.,  0.,  0.,  0.],\n",
       "       [ 0.,  0.,  0.,  7.,  8.,  0.,  0.,  0.],\n",
       "       [ 0.,  0.,  1., 13.,  6.,  2.,  2.,  0.],\n",
       "       [ 0.,  0.,  7., 15.,  0.,  9.,  8.,  0.],\n",
       "       [ 0.,  5., 16., 10.,  0., 16.,  6.,  0.],\n",
       "       [ 0.,  4., 15., 16., 13., 16.,  1.,  0.],\n",
       "       [ 0.,  0.,  0.,  3., 15., 10.,  0.,  0.],\n",
       "       [ 0.,  0.,  0.,  2., 16.,  4.,  0.,  0.]])"
      ]
     },
     "execution_count": 14,
     "metadata": {},
     "output_type": "execute_result"
    }
   ],
   "source": [
    "n=int(input('Enter number  '))\n",
    "\n",
    "import matplotlib.pyplot as plt\n",
    "plt.gray()\n",
    "\n",
    "plt.matshow(df.images[n])\n",
    "plt.show()\n",
    "df.images[n]"
   ]
  },
  {
   "cell_type": "markdown",
   "metadata": {},
   "source": [
    "* Segregating Dataset "
   ]
  },
  {
   "cell_type": "code",
   "execution_count": 15,
   "metadata": {},
   "outputs": [],
   "source": [
    "X=df.images.reshape((dataimageLength,-1))\n",
    "\n",
    "y=df.target"
   ]
  },
  {
   "cell_type": "code",
   "execution_count": 17,
   "metadata": {},
   "outputs": [
    {
     "data": {
      "text/plain": [
       "array([[ 0.,  0.,  5., ...,  0.,  0.,  0.],\n",
       "       [ 0.,  0.,  0., ..., 10.,  0.,  0.],\n",
       "       [ 0.,  0.,  0., ..., 16.,  9.,  0.],\n",
       "       ...,\n",
       "       [ 0.,  0.,  1., ...,  6.,  0.,  0.],\n",
       "       [ 0.,  0.,  2., ..., 12.,  0.,  0.],\n",
       "       [ 0.,  0., 10., ..., 12.,  1.,  0.]])"
      ]
     },
     "execution_count": 17,
     "metadata": {},
     "output_type": "execute_result"
    }
   ],
   "source": [
    "X"
   ]
  },
  {
   "cell_type": "code",
   "execution_count": 18,
   "metadata": {},
   "outputs": [
    {
     "data": {
      "text/plain": [
       "array([0, 1, 2, ..., 8, 9, 8])"
      ]
     },
     "execution_count": 18,
     "metadata": {},
     "output_type": "execute_result"
    }
   ],
   "source": [
    "y"
   ]
  },
  {
   "cell_type": "markdown",
   "metadata": {},
   "source": [
    "* Splitting Dataset"
   ]
  },
  {
   "cell_type": "code",
   "execution_count": 49,
   "metadata": {},
   "outputs": [],
   "source": [
    "from sklearn.model_selection import train_test_split\n",
    "\n",
    "X_train,X_test,y_train,y_test=train_test_split(X,y,test_size=0.15,random_state=5)\n",
    "\n"
   ]
  },
  {
   "cell_type": "code",
   "execution_count": 50,
   "metadata": {},
   "outputs": [
    {
     "data": {
      "text/plain": [
       "(1527, 64)"
      ]
     },
     "execution_count": 50,
     "metadata": {},
     "output_type": "execute_result"
    }
   ],
   "source": [
    "X_train.shape"
   ]
  },
  {
   "cell_type": "code",
   "execution_count": 51,
   "metadata": {},
   "outputs": [
    {
     "data": {
      "text/plain": [
       "(270, 64)"
      ]
     },
     "execution_count": 51,
     "metadata": {},
     "output_type": "execute_result"
    }
   ],
   "source": [
    "X_test.shape"
   ]
  },
  {
   "cell_type": "markdown",
   "metadata": {},
   "source": [
    "* Training"
   ]
  },
  {
   "cell_type": "code",
   "execution_count": 52,
   "metadata": {},
   "outputs": [
    {
     "data": {
      "text/plain": [
       "SVC(C=1.0, cache_size=200, class_weight=None, coef0=0.0,\n",
       "    decision_function_shape='ovr', degree=3, gamma='auto_deprecated',\n",
       "    kernel='linear', max_iter=-1, probability=False, random_state=None,\n",
       "    shrinking=True, tol=0.001, verbose=False)"
      ]
     },
     "execution_count": 52,
     "metadata": {},
     "output_type": "execute_result"
    }
   ],
   "source": [
    "from sklearn.svm import SVC\n",
    "\n",
    "model=SVC(kernel='linear')\n",
    "model.fit(X_train,y_train)"
   ]
  },
  {
   "cell_type": "markdown",
   "metadata": {},
   "source": [
    "* Predicting , Digits from Test Data"
   ]
  },
  {
   "cell_type": "code",
   "execution_count": 53,
   "metadata": {},
   "outputs": [
    {
     "name": "stdout",
     "output_type": "stream",
     "text": [
      "Enter  Number  8\n",
      "[8]\n",
      "\n",
      "\n"
     ]
    },
    {
     "data": {
      "image/png": "[encoded data removed]",
      "text/plain": [
       "<Figure size 432x288 with 1 Axes>"
      ]
     },
     "metadata": {
      "needs_background": "light"
     },
     "output_type": "display_data"
    }
   ],
   "source": [
    "n=int(input('Enter  Number  '))\n",
    "\n",
    "result=model.predict(df.images[n].reshape((1,-1)))\n",
    "\n",
    "plt.imshow(df.images[n],cmap=plt.cm.gray_r,interpolation='nearest')\n",
    "\n",
    "print (result)\n",
    "print('\\n')\n",
    "\n",
    "plt.axis('off')\n",
    "plt.title('%i' %result)\n",
    "plt.show()"
   ]
  },
  {
   "cell_type": "markdown",
   "metadata": {},
   "source": [
    "* Prediction for Test Data "
   ]
  },
  {
   "cell_type": "code",
   "execution_count": 54,
   "metadata": {},
   "outputs": [
    {
     "name": "stdout",
     "output_type": "stream",
     "text": [
      "[[5 5]\n",
      " [2 2]\n",
      " [5 5]\n",
      " [5 5]\n",
      " [5 5]\n",
      " [3 3]\n",
      " [2 2]\n",
      " [2 2]\n",
      " [3 3]\n",
      " [5 5]\n",
      " [9 9]\n",
      " [8 8]\n",
      " [7 7]\n",
      " [2 2]\n",
      " [1 1]\n",
      " [1 1]\n",
      " [5 5]\n",
      " [7 7]\n",
      " [0 0]\n",
      " [4 4]\n",
      " [5 5]\n",
      " [9 9]\n",
      " [0 0]\n",
      " [2 2]\n",
      " [1 1]\n",
      " [3 3]\n",
      " [4 4]\n",
      " [7 7]\n",
      " [5 5]\n",
      " [2 2]\n",
      " [1 1]\n",
      " [1 1]\n",
      " [2 2]\n",
      " [9 9]\n",
      " [8 8]\n",
      " [1 1]\n",
      " [4 4]\n",
      " [9 5]\n",
      " [4 4]\n",
      " [9 9]\n",
      " [5 5]\n",
      " [5 5]\n",
      " [6 6]\n",
      " [0 0]\n",
      " [1 1]\n",
      " [7 7]\n",
      " [2 2]\n",
      " [9 9]\n",
      " [7 7]\n",
      " [7 7]\n",
      " [3 3]\n",
      " [9 9]\n",
      " [5 5]\n",
      " [1 1]\n",
      " [0 6]\n",
      " [6 6]\n",
      " [7 7]\n",
      " [7 7]\n",
      " [8 8]\n",
      " [1 1]\n",
      " [6 6]\n",
      " [1 1]\n",
      " [3 3]\n",
      " [6 6]\n",
      " [1 1]\n",
      " [3 3]\n",
      " [2 2]\n",
      " [6 6]\n",
      " [8 8]\n",
      " [1 1]\n",
      " [4 4]\n",
      " [7 7]\n",
      " [1 1]\n",
      " [6 6]\n",
      " [0 0]\n",
      " [0 0]\n",
      " [5 5]\n",
      " [1 1]\n",
      " [2 3]\n",
      " [5 5]\n",
      " [1 1]\n",
      " [6 6]\n",
      " [4 4]\n",
      " [0 0]\n",
      " [4 4]\n",
      " [7 7]\n",
      " [5 5]\n",
      " [7 7]\n",
      " [8 8]\n",
      " [3 3]\n",
      " [7 7]\n",
      " [8 8]\n",
      " [5 5]\n",
      " [1 1]\n",
      " [1 1]\n",
      " [7 7]\n",
      " [5 5]\n",
      " [9 9]\n",
      " [7 7]\n",
      " [9 9]\n",
      " [3 3]\n",
      " [0 0]\n",
      " [7 7]\n",
      " [8 8]\n",
      " [7 7]\n",
      " [4 4]\n",
      " [8 8]\n",
      " [3 3]\n",
      " [2 2]\n",
      " [8 8]\n",
      " [5 5]\n",
      " [2 2]\n",
      " [7 7]\n",
      " [4 4]\n",
      " [4 4]\n",
      " [8 8]\n",
      " [9 9]\n",
      " [7 7]\n",
      " [4 4]\n",
      " [9 5]\n",
      " [0 0]\n",
      " [5 5]\n",
      " [9 9]\n",
      " [8 8]\n",
      " [2 2]\n",
      " [3 3]\n",
      " [2 2]\n",
      " [4 4]\n",
      " [4 4]\n",
      " [8 8]\n",
      " [0 0]\n",
      " [5 5]\n",
      " [2 2]\n",
      " [9 9]\n",
      " [4 4]\n",
      " [9 8]\n",
      " [6 6]\n",
      " [5 5]\n",
      " [9 9]\n",
      " [9 7]\n",
      " [8 8]\n",
      " [0 0]\n",
      " [9 9]\n",
      " [4 4]\n",
      " [3 3]\n",
      " [8 8]\n",
      " [7 7]\n",
      " [5 5]\n",
      " [5 5]\n",
      " [3 3]\n",
      " [3 3]\n",
      " [5 5]\n",
      " [1 1]\n",
      " [0 0]\n",
      " [8 8]\n",
      " [7 7]\n",
      " [2 2]\n",
      " [8 8]\n",
      " [4 4]\n",
      " [1 1]\n",
      " [0 0]\n",
      " [0 0]\n",
      " [3 3]\n",
      " [6 6]\n",
      " [4 4]\n",
      " [7 7]\n",
      " [7 7]\n",
      " [0 0]\n",
      " [1 4]\n",
      " [9 9]\n",
      " [2 2]\n",
      " [8 8]\n",
      " [7 7]\n",
      " [9 9]\n",
      " [7 7]\n",
      " [2 2]\n",
      " [0 0]\n",
      " [3 3]\n",
      " [3 3]\n",
      " [8 8]\n",
      " [5 5]\n",
      " [7 7]\n",
      " [5 5]\n",
      " [6 6]\n",
      " [8 8]\n",
      " [4 4]\n",
      " [1 1]\n",
      " [5 5]\n",
      " [1 1]\n",
      " [1 1]\n",
      " [6 6]\n",
      " [9 9]\n",
      " [9 9]\n",
      " [9 9]\n",
      " [8 8]\n",
      " [6 6]\n",
      " [4 4]\n",
      " [6 6]\n",
      " [0 0]\n",
      " [1 1]\n",
      " [6 6]\n",
      " [5 5]\n",
      " [3 3]\n",
      " [9 9]\n",
      " [0 0]\n",
      " [2 2]\n",
      " [7 7]\n",
      " [8 8]\n",
      " [1 8]\n",
      " [7 7]\n",
      " [3 3]\n",
      " [8 8]\n",
      " [3 3]\n",
      " [9 9]\n",
      " [3 3]\n",
      " [0 0]\n",
      " [9 9]\n",
      " [6 6]\n",
      " [0 0]\n",
      " [4 4]\n",
      " [0 0]\n",
      " [3 3]\n",
      " [5 5]\n",
      " [0 0]\n",
      " [4 4]\n",
      " [3 3]\n",
      " [5 5]\n",
      " [8 8]\n",
      " [8 8]\n",
      " [9 9]\n",
      " [2 2]\n",
      " [5 5]\n",
      " [0 0]\n",
      " [9 8]\n",
      " [3 3]\n",
      " [7 7]\n",
      " [4 4]\n",
      " [3 3]\n",
      " [7 7]\n",
      " [9 9]\n",
      " [2 2]\n",
      " [6 6]\n",
      " [1 1]\n",
      " [2 2]\n",
      " [1 1]\n",
      " [7 7]\n",
      " [0 0]\n",
      " [7 7]\n",
      " [5 5]\n",
      " [0 0]\n",
      " [6 6]\n",
      " [4 4]\n",
      " [1 1]\n",
      " [8 8]\n",
      " [3 3]\n",
      " [0 0]\n",
      " [8 8]\n",
      " [9 9]\n",
      " [2 2]\n",
      " [2 2]\n",
      " [5 5]\n",
      " [2 2]\n",
      " [6 6]\n",
      " [6 6]\n",
      " [3 3]\n",
      " [4 4]\n",
      " [0 0]\n",
      " [7 7]\n",
      " [1 1]\n",
      " [5 5]]\n"
     ]
    }
   ],
   "source": [
    "y_pred=model.predict(X_test)\n",
    "\n",
    "print(np.concatenate((y_pred.reshape(len(y_pred),1),y_test.reshape(len(y_pred),1)),1))"
   ]
  },
  {
   "cell_type": "markdown",
   "metadata": {},
   "source": [
    "* Evaluation "
   ]
  },
  {
   "cell_type": "code",
   "execution_count": 55,
   "metadata": {},
   "outputs": [
    {
     "name": "stdout",
     "output_type": "stream",
     "text": [
      "Accuracy Score of the model is 96.66666666666667%\n"
     ]
    }
   ],
   "source": [
    "from sklearn.metrics import accuracy_score\n",
    "As=accuracy_score(y_test,y_pred)\n",
    "\n",
    "print('Accuracy Score of the model is {}%'.format(As*100))\n",
    "\n"
   ]
  },
  {
   "cell_type": "markdown",
   "metadata": {},
   "source": [
    "* Different Methods"
   ]
  },
  {
   "cell_type": "code",
   "execution_count": 65,
   "metadata": {},
   "outputs": [
    {
     "name": "stderr",
     "output_type": "stream",
     "text": [
      "C:\\Users\\Lenovo\\Anaconda3\\lib\\site-packages\\sklearn\\svm\\base.py:193: FutureWarning: The default value of gamma will change from 'auto' to 'scale' in version 0.22 to account better for unscaled features. Set gamma explicitly to 'auto' or 'scale' to avoid this warning.\n",
      "  \"avoid this warning.\", FutureWarning)\n"
     ]
    },
    {
     "name": "stdout",
     "output_type": "stream",
     "text": [
      "Accuracy of model 1 is: 96.66666666666667%\n",
      "Accuracy of model 2 is: 51.48148148148148%\n",
      "Accuracy of model 3 is: 95.55555555555556%\n",
      "Accuracy of model 4 is: 98.51851851851852%\n",
      "Accuracy of model 5 is: 98.51851851851852%\n"
     ]
    },
    {
     "name": "stderr",
     "output_type": "stream",
     "text": [
      "C:\\Users\\Lenovo\\Anaconda3\\lib\\site-packages\\sklearn\\svm\\base.py:193: FutureWarning: The default value of gamma will change from 'auto' to 'scale' in version 0.22 to account better for unscaled features. Set gamma explicitly to 'auto' or 'scale' to avoid this warning.\n",
      "  \"avoid this warning.\", FutureWarning)\n",
      "C:\\Users\\Lenovo\\Anaconda3\\lib\\site-packages\\sklearn\\svm\\base.py:193: FutureWarning: The default value of gamma will change from 'auto' to 'scale' in version 0.22 to account better for unscaled features. Set gamma explicitly to 'auto' or 'scale' to avoid this warning.\n",
      "  \"avoid this warning.\", FutureWarning)\n"
     ]
    }
   ],
   "source": [
    "model1=SVC(kernel='linear')\n",
    "model2=SVC(kernel='rbf')\n",
    "model3=SVC(gamma=0.0001)\n",
    "model4=SVC(kernel='poly')\n",
    "model5=SVC(kernel='poly',C=0.01)\n",
    "\n",
    "model1.fit(X_train,y_train)\n",
    "model2.fit(X_train,y_train)\n",
    "model3.fit(X_train,y_train)\n",
    "model4.fit(X_train,y_train)\n",
    "model5.fit(X_train,y_train)\n",
    "\n",
    "\n",
    "\n",
    "y_predmodel1=model1.predict(X_test)\n",
    "y_predmodel2=model2.predict(X_test)\n",
    "y_predmodel3=model3.predict(X_test)\n",
    "y_predmodel4=model4.predict(X_test)\n",
    "y_predmodel5=model5.predict(X_test)\n",
    "\n",
    "\n",
    "Acu_model1=accuracy_score(y_test,y_predmodel1)\n",
    "Acu_model2=accuracy_score(y_test,y_predmodel2)\n",
    "Acu_model3=accuracy_score(y_test,y_predmodel3)\n",
    "Acu_model4=accuracy_score(y_test,y_predmodel4)\n",
    "Acu_model5=accuracy_score(y_test,y_predmodel5)\n",
    "\n",
    "print('Accuracy of model 1 is: {}%'.format(Acu_model1*100))\n",
    "print('Accuracy of model 2 is: {}%'.format(Acu_model2*100))\n",
    "print('Accuracy of model 3 is: {}%'.format(Acu_model3*100))\n",
    "print('Accuracy of model 4 is: {}%'.format(Acu_model4*100))\n",
    "print('Accuracy of model 5 is: {}%'.format(Acu_model5*100))"
   ]
  },
  {
   "cell_type": "code",
   "execution_count": null,
   "metadata": {},
   "outputs": [],
   "source": []
  }
 ],
 "metadata": {
  "kernelspec": {
   "display_name": "Python 3",
   "language": "python",
   "name": "python3"
  },
  "language_info": {
   "codemirror_mode": {
    "name": "ipython",
    "version": 3
   },
   "file_extension": ".py",
   "mimetype": "text/x-python",
   "name": "python",
   "nbconvert_exporter": "python",
   "pygments_lexer": "ipython3",
   "version": "3.7.4"
  }
 },
 "nbformat": 4,
 "nbformat_minor": 2
}
